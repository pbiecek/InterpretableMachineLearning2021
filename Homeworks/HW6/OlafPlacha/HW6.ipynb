{
 "cells": [
  {
   "cell_type": "markdown",
   "metadata": {},
   "source": [
    "Kilka różnych modeli zostanie wytrenowanych na danych z katastrofy Titanic'a. Następnie dla atrybutu chronionego, którym została wybrana płeć, zostanie obliczonych kilka metryk fairness'u."
   ]
  },
  {
   "cell_type": "code",
   "execution_count": 34,
   "metadata": {},
   "outputs": [],
   "source": [
    "import pandas as pd\n",
    "from sklearn.model_selection import train_test_split\n",
    "from sklearn.ensemble import GradientBoostingClassifier\n",
    "from sklearn.ensemble import RandomForestClassifier\n",
    "from sklearn.neighbors import KNeighborsClassifier\n",
    "from sklearn.linear_model import LogisticRegression\n",
    "from sklearn.metrics import confusion_matrix\n",
    "from sklearn.svm import SVC\n",
    "import matplotlib.pyplot as plt\n",
    "import seaborn as sns\n",
    "import numpy as np"
   ]
  },
  {
   "cell_type": "code",
   "execution_count": 88,
   "metadata": {},
   "outputs": [],
   "source": [
    "def computeFairnessMetrics(model, X, Y):\n",
    "    \n",
    "    tn, fp, fn, tp = confusion_matrix(model.predict(X), Y).ravel()\n",
    "    \n",
    "    statistical_parity_ratio = (tp + fp) / (tp + fp + tn + tp)\n",
    "    equal_opportunity_ratio = tp / (tp + fn)\n",
    "    predictive_equality_ratio = fp / (fp + tn)\n",
    "    predictive_parity_ratio = tp / (tp + fp)\n",
    "\n",
    "    fairnessDict = {\"statistical_parity_ratio\" : statistical_parity_ratio, \n",
    "                    \"equal_opportunity_ratio\" : equal_opportunity_ratio,\n",
    "                    \"predictive_equality_ratio\" : predictive_equality_ratio,\n",
    "                    \"predictive_parity_ratio\" : predictive_parity_ratio}\n",
    "    \n",
    "    return fairnessDict"
   ]
  },
  {
   "cell_type": "code",
   "execution_count": 119,
   "metadata": {},
   "outputs": [],
   "source": [
    "data = pd.read_csv(\"train.csv\")\n",
    "# get rid of passenger id, name and age\n",
    "cleaned = data.drop(['PassengerId', 'Name', 'Age'], axis=1)\n",
    "dummies = pd.get_dummies(cleaned)\n",
    "\n",
    "X = dummies.drop('Survived', axis=1)\n",
    "Y = dummies.Survived\n",
    "X_train, X_test, y_train, y_test = train_test_split(X, Y, test_size=0.3, random_state=6)"
   ]
  },
  {
   "cell_type": "code",
   "execution_count": 120,
   "metadata": {},
   "outputs": [
    {
     "data": {
      "text/plain": [
       "GradientBoostingClassifier()"
      ]
     },
     "execution_count": 120,
     "metadata": {},
     "output_type": "execute_result"
    }
   ],
   "source": [
    "gbc = GradientBoostingClassifier()\n",
    "gbc.fit(X_train, y_train)"
   ]
  },
  {
   "cell_type": "code",
   "execution_count": 121,
   "metadata": {},
   "outputs": [
    {
     "name": "stdout",
     "output_type": "stream",
     "text": [
      "Training accuracy: 0.8459069020866774. Validation accuracy: 0.832089552238806\n"
     ]
    }
   ],
   "source": [
    "print(f\"Training accuracy: {gbc.score(X_train, y_train)}. Validation accuracy: {gbc.score(X_test, y_test)}\")"
   ]
  },
  {
   "cell_type": "code",
   "execution_count": 122,
   "metadata": {},
   "outputs": [
    {
     "data": {
      "text/plain": [
       "RandomForestClassifier()"
      ]
     },
     "execution_count": 122,
     "metadata": {},
     "output_type": "execute_result"
    }
   ],
   "source": [
    "rf = RandomForestClassifier()\n",
    "rf.fit(X_train, y_train)"
   ]
  },
  {
   "cell_type": "code",
   "execution_count": 123,
   "metadata": {},
   "outputs": [
    {
     "name": "stdout",
     "output_type": "stream",
     "text": [
      "Training accuracy: 0.9967897271268058. Validation accuracy: 0.8395522388059702\n"
     ]
    }
   ],
   "source": [
    "print(f\"Training accuracy: {rf.score(X_train, y_train)}. Validation accuracy: {rf.score(X_test, y_test)}\")"
   ]
  },
  {
   "cell_type": "code",
   "execution_count": 124,
   "metadata": {},
   "outputs": [
    {
     "data": {
      "text/plain": [
       "KNeighborsClassifier()"
      ]
     },
     "execution_count": 124,
     "metadata": {},
     "output_type": "execute_result"
    }
   ],
   "source": [
    "knn = KNeighborsClassifier(5)\n",
    "knn.fit(X_train, y_train)"
   ]
  },
  {
   "cell_type": "code",
   "execution_count": 125,
   "metadata": {},
   "outputs": [
    {
     "name": "stdout",
     "output_type": "stream",
     "text": [
      "Training accuracy: 0.841091492776886. Validation accuracy: 0.75\n"
     ]
    }
   ],
   "source": [
    "print(f\"Training accuracy: {knn.score(X_train, y_train)}. Validation accuracy: {knn.score(X_test, y_test)}\")"
   ]
  },
  {
   "cell_type": "code",
   "execution_count": 126,
   "metadata": {},
   "outputs": [
    {
     "data": {
      "text/plain": [
       "LogisticRegression(max_iter=2000)"
      ]
     },
     "execution_count": 126,
     "metadata": {},
     "output_type": "execute_result"
    }
   ],
   "source": [
    "lr = LogisticRegression(max_iter=2000)\n",
    "lr.fit(X_train, y_train)"
   ]
  },
  {
   "cell_type": "code",
   "execution_count": 127,
   "metadata": {},
   "outputs": [
    {
     "data": {
      "text/plain": [
       "SVC()"
      ]
     },
     "execution_count": 127,
     "metadata": {},
     "output_type": "execute_result"
    }
   ],
   "source": [
    "svm = SVC()\n",
    "svm.fit(X_train, y_train)"
   ]
  },
  {
   "cell_type": "code",
   "execution_count": 128,
   "metadata": {},
   "outputs": [
    {
     "name": "stdout",
     "output_type": "stream",
     "text": [
      "Training accuracy: 0.6789727126805778. Validation accuracy: 0.6753731343283582\n"
     ]
    }
   ],
   "source": [
    "print(f\"Training accuracy: {svm.score(X_train, y_train)}. Validation accuracy: {svm.score(X_test, y_test)}\")"
   ]
  },
  {
   "cell_type": "code",
   "execution_count": 129,
   "metadata": {},
   "outputs": [],
   "source": [
    "models = [gbc, rf, knn, lr]\n",
    "names = [\"gradient boosting\", \"random forest\", \"KNN\", \"logistic regression\"]"
   ]
  },
  {
   "cell_type": "code",
   "execution_count": 130,
   "metadata": {},
   "outputs": [],
   "source": [
    "results = []\n",
    "X_val_male = X_test[X_test['Sex_male'] == 1]\n",
    "y_val_male = y_test[X_test['Sex_male'] == 1]\n",
    "X_val_female = X_test[X_test['Sex_female'] == 1]\n",
    "y_val_female = y_test[X_test['Sex_female'] == 1]\n",
    "\n",
    "for i in range(len(models)):\n",
    "    fairnessDictMale = computeFairnessMetrics(models[i], X_val_male, y_val_male)\n",
    "    for k, v in fairnessDictMale.items():\n",
    "        results.append(pd.DataFrame({'metric' : k, 'score' : v, 'sex' : 'male', 'model' : names[i]}, index=[0]))\n",
    "    \n",
    "    fairnessDictFemale = computeFairnessMetrics(models[i], X_val_female, y_val_female)\n",
    "    for k, v in fairnessDictFemale.items():\n",
    "        results.append(pd.DataFrame({'metric' : k, 'score' : v, 'sex' : 'female', 'model' : names[i]}, index=[0]))"
   ]
  },
  {
   "cell_type": "code",
   "execution_count": 131,
   "metadata": {},
   "outputs": [],
   "source": [
    "combo = pd.concat(results)"
   ]
  },
  {
   "cell_type": "code",
   "execution_count": 132,
   "metadata": {},
   "outputs": [
    {
     "data": {
      "image/png": "[encoded data removed]",
      "text/plain": [
       "<Figure size 432x288 with 1 Axes>"
      ]
     },
     "metadata": {
      "needs_background": "light"
     },
     "output_type": "display_data"
    },
    {
     "data": {
      "image/png": "[encoded data removed]",
      "text/plain": [
       "<Figure size 432x288 with 1 Axes>"
      ]
     },
     "metadata": {
      "needs_background": "light"
     },
     "output_type": "display_data"
    },
    {
     "data": {
      "image/png": "[encoded data removed]",
      "text/plain": [
       "<Figure size 432x288 with 1 Axes>"
      ]
     },
     "metadata": {
      "needs_background": "light"
     },
     "output_type": "display_data"
    },
    {
     "data": {
      "image/png": "[encoded data removed]",
      "text/plain": [
       "<Figure size 432x288 with 1 Axes>"
      ]
     },
     "metadata": {
      "needs_background": "light"
     },
     "output_type": "display_data"
    }
   ],
   "source": [
    "for metric, df in combo.groupby('metric'):\n",
    "    male = df[df.sex == 'male']\n",
    "    female = df[df.sex == 'female']\n",
    "    \n",
    "    sns.barplot(data=df[df[\"metric\"].eq(metric)], x=\"model\", y=\"score\", hue=\"sex\")\n",
    "    plt.title(metric)\n",
    "    plt.show()"
   ]
  },
  {
   "cell_type": "markdown",
   "metadata": {},
   "source": [
    "Wnioski: <br>\n",
    "- metryki fairnessu są bardzo zróżnicowane dla wytrenowanych modeli\n",
    "- tylko dla regresji logistycznej występuje jedna metryka, która ma większą wartość dla mężczyzn. Jest to \"predictive equality\". Oznacza to, że model częściej się myli w przypadku mężczyzn, którzy nie przeżyli katastrofy, niż w przypadku kobiet, które nie przeżyły katastrofy\n",
    "- jest ogromna różnica pomiędzy wartościami \"predictive parity\" w przypadku modelu gradient boosting. W tym przypadku odsetek mężczyzn, którzy przeżyli katastrofę, spośród mężczyzn, którzy według modelu przeżyli katastrofę, jest bardzo mały. Inna sytuacja występuje dla kobiet. Jeżeli model uzna, że kobieta przeżyje katastrofę, to z dużym prawdopodobieństwem (~85%) model się nie myli. Nie można tego powiedzieć w przypadku mężczyzn\n",
    "- trudno jest wyróżnić najlepszy model. Wybór najlepszego modelu zależy od tego, na jakiej metryce nam najbardziej zależy \n",
    "- na pewno płeć miała ogromną kontrybucję do predykcji modeli. Jest to sytuacja niepożądana z perspektywy fairnessu modelu "
   ]
  },
  {
   "cell_type": "code",
   "execution_count": null,
   "metadata": {},
   "outputs": [],
   "source": []
  }
 ],
 "metadata": {
  "kernelspec": {
   "display_name": "Python 3",
   "language": "python",
   "name": "python3"
  },
  "language_info": {
   "codemirror_mode": {
    "name": "ipython",
    "version": 3
   },
   "file_extension": ".py",
   "mimetype": "text/x-python",
   "name": "python",
   "nbconvert_exporter": "python",
   "pygments_lexer": "ipython3",
   "version": "3.8.3"
  }
 },
 "nbformat": 4,
 "nbformat_minor": 4
}
